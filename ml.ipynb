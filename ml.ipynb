{
 "cells": [
  {
   "cell_type": "code",
   "metadata": {
    "ExecuteTime": {
     "end_time": "2024-10-05T14:09:37.497115Z",
     "start_time": "2024-10-05T14:09:37.483201Z"
    }
   },
   "source": [
    "# Import libraries\n",
    "import numpy as np\n",
    "import pandas as pd\n",
    "from obspy import read\n",
    "from datetime import datetime, timedelta\n",
    "import matplotlib.pyplot as plt\n",
    "import os"
   ],
   "outputs": [],
   "execution_count": 81
  },
  {
   "cell_type": "code",
   "metadata": {
    "ExecuteTime": {
     "end_time": "2024-10-05T14:09:37.572337Z",
     "start_time": "2024-10-05T14:09:37.529918Z"
    }
   },
   "source": [
    "cat_directory = './data/lunar/training/catalogs/'\n",
    "cat_file = cat_directory + 'apollo12_catalog_GradeA_final.csv'\n",
    "cat = pd.read_csv(cat_file)\n",
    "cat"
   ],
   "outputs": [
    {
     "data": {
      "text/plain": [
       "                                  filename time_abs(%Y-%m-%dT%H:%M:%S.%f)  \\\n",
       "0   xa.s12.00.mhz.1970-01-19HR00_evid00002     1970-01-19T20:25:00.000000   \n",
       "1   xa.s12.00.mhz.1970-03-25HR00_evid00003     1970-03-25T03:32:00.000000   \n",
       "2   xa.s12.00.mhz.1970-03-26HR00_evid00004     1970-03-26T20:17:00.000000   \n",
       "3   xa.s12.00.mhz.1970-04-25HR00_evid00006     1970-04-25T01:14:00.000000   \n",
       "4   xa.s12.00.mhz.1970-04-26HR00_evid00007     1970-04-26T14:29:00.000000   \n",
       "..                                     ...                            ...   \n",
       "71  xa.s12.00.mhz.1974-10-14HR00_evid00156     1974-10-14T17:43:00.000000   \n",
       "72  xa.s12.00.mhz.1975-04-12HR00_evid00191     1975-04-12T18:15:00.000000   \n",
       "73  xa.s12.00.mhz.1975-05-04HR00_evid00192     1975-05-04T10:05:00.000000   \n",
       "74  xa.s12.00.mhz.1975-06-24HR00_evid00196     1975-06-24T16:03:00.000000   \n",
       "75  xa.s12.00.mhz.1975-06-26HR00_evid00198     1975-06-26T03:24:00.000000   \n",
       "\n",
       "    time_rel(sec)       evid    mq_type  \n",
       "0         73500.0  evid00002  impact_mq  \n",
       "1         12720.0  evid00003  impact_mq  \n",
       "2         73020.0  evid00004  impact_mq  \n",
       "3          4440.0  evid00006  impact_mq  \n",
       "4         52140.0  evid00007    deep_mq  \n",
       "..            ...        ...        ...  \n",
       "71        63780.0  evid00156  impact_mq  \n",
       "72        65700.0  evid00191  impact_mq  \n",
       "73        36300.0  evid00192  impact_mq  \n",
       "74        57780.0  evid00196  impact_mq  \n",
       "75        12240.0  evid00198  impact_mq  \n",
       "\n",
       "[76 rows x 5 columns]"
      ],
      "text/html": [
       "<div>\n",
       "<style scoped>\n",
       "    .dataframe tbody tr th:only-of-type {\n",
       "        vertical-align: middle;\n",
       "    }\n",
       "\n",
       "    .dataframe tbody tr th {\n",
       "        vertical-align: top;\n",
       "    }\n",
       "\n",
       "    .dataframe thead th {\n",
       "        text-align: right;\n",
       "    }\n",
       "</style>\n",
       "<table border=\"1\" class=\"dataframe\">\n",
       "  <thead>\n",
       "    <tr style=\"text-align: right;\">\n",
       "      <th></th>\n",
       "      <th>filename</th>\n",
       "      <th>time_abs(%Y-%m-%dT%H:%M:%S.%f)</th>\n",
       "      <th>time_rel(sec)</th>\n",
       "      <th>evid</th>\n",
       "      <th>mq_type</th>\n",
       "    </tr>\n",
       "  </thead>\n",
       "  <tbody>\n",
       "    <tr>\n",
       "      <th>0</th>\n",
       "      <td>xa.s12.00.mhz.1970-01-19HR00_evid00002</td>\n",
       "      <td>1970-01-19T20:25:00.000000</td>\n",
       "      <td>73500.0</td>\n",
       "      <td>evid00002</td>\n",
       "      <td>impact_mq</td>\n",
       "    </tr>\n",
       "    <tr>\n",
       "      <th>1</th>\n",
       "      <td>xa.s12.00.mhz.1970-03-25HR00_evid00003</td>\n",
       "      <td>1970-03-25T03:32:00.000000</td>\n",
       "      <td>12720.0</td>\n",
       "      <td>evid00003</td>\n",
       "      <td>impact_mq</td>\n",
       "    </tr>\n",
       "    <tr>\n",
       "      <th>2</th>\n",
       "      <td>xa.s12.00.mhz.1970-03-26HR00_evid00004</td>\n",
       "      <td>1970-03-26T20:17:00.000000</td>\n",
       "      <td>73020.0</td>\n",
       "      <td>evid00004</td>\n",
       "      <td>impact_mq</td>\n",
       "    </tr>\n",
       "    <tr>\n",
       "      <th>3</th>\n",
       "      <td>xa.s12.00.mhz.1970-04-25HR00_evid00006</td>\n",
       "      <td>1970-04-25T01:14:00.000000</td>\n",
       "      <td>4440.0</td>\n",
       "      <td>evid00006</td>\n",
       "      <td>impact_mq</td>\n",
       "    </tr>\n",
       "    <tr>\n",
       "      <th>4</th>\n",
       "      <td>xa.s12.00.mhz.1970-04-26HR00_evid00007</td>\n",
       "      <td>1970-04-26T14:29:00.000000</td>\n",
       "      <td>52140.0</td>\n",
       "      <td>evid00007</td>\n",
       "      <td>deep_mq</td>\n",
       "    </tr>\n",
       "    <tr>\n",
       "      <th>...</th>\n",
       "      <td>...</td>\n",
       "      <td>...</td>\n",
       "      <td>...</td>\n",
       "      <td>...</td>\n",
       "      <td>...</td>\n",
       "    </tr>\n",
       "    <tr>\n",
       "      <th>71</th>\n",
       "      <td>xa.s12.00.mhz.1974-10-14HR00_evid00156</td>\n",
       "      <td>1974-10-14T17:43:00.000000</td>\n",
       "      <td>63780.0</td>\n",
       "      <td>evid00156</td>\n",
       "      <td>impact_mq</td>\n",
       "    </tr>\n",
       "    <tr>\n",
       "      <th>72</th>\n",
       "      <td>xa.s12.00.mhz.1975-04-12HR00_evid00191</td>\n",
       "      <td>1975-04-12T18:15:00.000000</td>\n",
       "      <td>65700.0</td>\n",
       "      <td>evid00191</td>\n",
       "      <td>impact_mq</td>\n",
       "    </tr>\n",
       "    <tr>\n",
       "      <th>73</th>\n",
       "      <td>xa.s12.00.mhz.1975-05-04HR00_evid00192</td>\n",
       "      <td>1975-05-04T10:05:00.000000</td>\n",
       "      <td>36300.0</td>\n",
       "      <td>evid00192</td>\n",
       "      <td>impact_mq</td>\n",
       "    </tr>\n",
       "    <tr>\n",
       "      <th>74</th>\n",
       "      <td>xa.s12.00.mhz.1975-06-24HR00_evid00196</td>\n",
       "      <td>1975-06-24T16:03:00.000000</td>\n",
       "      <td>57780.0</td>\n",
       "      <td>evid00196</td>\n",
       "      <td>impact_mq</td>\n",
       "    </tr>\n",
       "    <tr>\n",
       "      <th>75</th>\n",
       "      <td>xa.s12.00.mhz.1975-06-26HR00_evid00198</td>\n",
       "      <td>1975-06-26T03:24:00.000000</td>\n",
       "      <td>12240.0</td>\n",
       "      <td>evid00198</td>\n",
       "      <td>impact_mq</td>\n",
       "    </tr>\n",
       "  </tbody>\n",
       "</table>\n",
       "<p>76 rows × 5 columns</p>\n",
       "</div>"
      ]
     },
     "execution_count": 82,
     "metadata": {},
     "output_type": "execute_result"
    }
   ],
   "execution_count": 82
  },
  {
   "cell_type": "code",
   "metadata": {
    "ExecuteTime": {
     "end_time": "2024-10-05T14:09:37.698298Z",
     "start_time": "2024-10-05T14:09:37.689126Z"
    }
   },
   "source": [
    "row = cat.iloc[7]\n",
    "arrival_time = datetime.strptime(row['time_abs(%Y-%m-%dT%H:%M:%S.%f)'],'%Y-%m-%dT%H:%M:%S.%f')\n",
    "arrival_time\n",
    "\n",
    "# If we want the value of relative time, we don't need to use datetime\n",
    "arrival_time_rel = row['time_rel(sec)']\n",
    "arrival_time_rel\n",
    "\n",
    "# Let's also get the name of the file\n",
    "test_filename = row.filename\n",
    "test_filename"
   ],
   "outputs": [
    {
     "data": {
      "text/plain": [
       "'xa.s12.00.mhz.1970-07-20HR00_evid00010'"
      ]
     },
     "execution_count": 83,
     "metadata": {},
     "output_type": "execute_result"
    }
   ],
   "execution_count": 83
  },
  {
   "cell_type": "code",
   "metadata": {
    "ExecuteTime": {
     "end_time": "2024-10-05T14:09:37.857810Z",
     "start_time": "2024-10-05T14:09:37.804920Z"
    }
   },
   "source": [
    "data_directory = './data/lunar/training/data/S12_GradeA/'\n",
    "mseed_file = f'{data_directory}{test_filename}.mseed'\n",
    "st = read(mseed_file)\n",
    "st\n",
    "\n",
    "st[0].stats"
   ],
   "outputs": [
    {
     "data": {
      "text/plain": [
       "         network: XA\n",
       "         station: S12\n",
       "        location: 00\n",
       "         channel: MHZ\n",
       "       starttime: 1970-07-20T00:00:00.487000Z\n",
       "         endtime: 1970-07-21T00:00:01.996434Z\n",
       "   sampling_rate: 6.625\n",
       "           delta: 0.1509433962264151\n",
       "            npts: 572411\n",
       "           calib: 1.0\n",
       "         _format: MSEED\n",
       "           mseed: AttribDict({'dataquality': 'D', 'number_of_records': 1136, 'encoding': 'FLOAT64', 'byteorder': '>', 'record_length': 4096, 'filesize': 4653056})"
      ]
     },
     "execution_count": 84,
     "metadata": {},
     "output_type": "execute_result"
    }
   ],
   "execution_count": 84
  },
  {
   "cell_type": "code",
   "metadata": {
    "ExecuteTime": {
     "end_time": "2024-10-05T14:09:37.939662Z",
     "start_time": "2024-10-05T14:09:37.923362Z"
    }
   },
   "source": [
    "# This is how you get the data and the time, which is in seconds\n",
    "tr = st.traces[0].copy()\n",
    "tr_times = tr.times()\n",
    "tr_data = tr.data\n",
    "\n",
    "# Start time of trace (another way to get the relative arrival time using datetime)\n",
    "starttime = tr.stats.starttime.datetime\n",
    "arrival = (arrival_time - starttime).total_seconds()\n",
    "arrival"
   ],
   "outputs": [
    {
     "data": {
      "text/plain": [
       "18359.513"
      ]
     },
     "execution_count": 85,
     "metadata": {},
     "output_type": "execute_result"
    }
   ],
   "execution_count": 85
  },
  {
   "cell_type": "code",
   "metadata": {
    "ExecuteTime": {
     "end_time": "2024-10-05T14:09:39.109221Z",
     "start_time": "2024-10-05T14:09:38.106625Z"
    }
   },
   "source": [
    "# Initialize figure\n",
    "fig,ax = plt.subplots(1,1,figsize=(10,3))\n",
    "\n",
    "# Plot trace\n",
    "ax.plot(tr_times,tr_data)\n",
    "\n",
    "# Mark detection\n",
    "ax.axvline(x = arrival, color='red',label='Rel. Arrival')\n",
    "ax.legend(loc='upper left')\n",
    "\n",
    "# Make the plot pretty\n",
    "ax.set_xlim([min(tr_times),max(tr_times)])\n",
    "ax.set_ylabel('Velocity (m/s)')\n",
    "ax.set_xlabel('Time (s)')\n",
    "ax.set_title(f'{test_filename}', fontweight='bold')"
   ],
   "outputs": [
    {
     "data": {
      "text/plain": [
       "Text(0.5, 1.0, 'xa.s12.00.mhz.1970-07-20HR00_evid00010')"
      ]
     },
     "execution_count": 86,
     "metadata": {},
     "output_type": "execute_result"
    },
    {
     "data": {
      "text/plain": [
       "<Figure size 1000x300 with 1 Axes>"
      ],
      "image/png": "[encoded data removed]"
     },
     "metadata": {},
     "output_type": "display_data"
    }
   ],
   "execution_count": 86
  },
  {
   "cell_type": "code",
   "metadata": {
    "ExecuteTime": {
     "end_time": "2024-10-05T14:09:39.162245Z",
     "start_time": "2024-10-05T14:09:39.128612Z"
    }
   },
   "source": [
    "# Set the minimum frequency\n",
    "minfreq = 0.5\n",
    "maxfreq = 1.0\n",
    "\n",
    "# Going to create a separate trace for the filter data\n",
    "st_filt = st.copy()\n",
    "st_filt.filter('bandpass',freqmin=minfreq,freqmax=maxfreq)\n",
    "tr_filt = st_filt.traces[0].copy()\n",
    "tr_times_filt = tr_filt.times()\n",
    "tr_data_filt = tr_filt.data"
   ],
   "outputs": [],
   "execution_count": 87
  },
  {
   "cell_type": "code",
   "metadata": {
    "ExecuteTime": {
     "end_time": "2024-10-05T14:09:41.362280Z",
     "start_time": "2024-10-05T14:09:39.222425Z"
    }
   },
   "source": [
    "# To better see the patterns, we will create a spectrogram using the scipy function\n",
    "# It requires the sampling rate, which we can get from the miniseed header as shown a few cells above\n",
    "from scipy import signal\n",
    "from matplotlib import cm\n",
    "f, t, sxx = signal.spectrogram(tr_data_filt, tr_filt.stats.sampling_rate)\n",
    "\n",
    "# Plot the time series and spectrogram\n",
    "fig = plt.figure(figsize=(10, 10))\n",
    "ax = plt.subplot(2, 1, 1)\n",
    "# Plot trace\n",
    "ax.plot(tr_times_filt,tr_data_filt)\n",
    "\n",
    "# Mark detection\n",
    "ax.axvline(x = arrival, color='red',label='Detection')\n",
    "ax.legend(loc='upper left')\n",
    "\n",
    "# Make the plot pretty\n",
    "ax.set_xlim([min(tr_times_filt),max(tr_times_filt)])\n",
    "ax.set_ylabel('Velocity (m/s)')\n",
    "ax.set_xlabel('Time (s)')\n",
    "\n",
    "ax2 = plt.subplot(2, 1, 2)\n",
    "vals = ax2.pcolormesh(t, f, sxx, cmap=cm.jet, vmax=5e-17)\n",
    "ax2.set_xlim([min(tr_times_filt),max(tr_times_filt)])\n",
    "ax2.set_xlabel(f'Time (Day Hour:Minute)', fontweight='bold')\n",
    "ax2.set_ylabel('Frequency (Hz)', fontweight='bold')\n",
    "ax2.axvline(x=arrival, c='red')\n",
    "cbar = plt.colorbar(vals, orientation='horizontal')\n",
    "cbar.set_label('Power ((m/s)^2/sqrt(Hz))', fontweight='bold')"
   ],
   "outputs": [
    {
     "data": {
      "text/plain": [
       "<Figure size 1000x1000 with 3 Axes>"
      ],
      "image/png": "[encoded data removed]"
     },
     "metadata": {},
     "output_type": "display_data"
    }
   ],
   "execution_count": 88
  },
  {
   "cell_type": "code",
   "metadata": {
    "ExecuteTime": {
     "end_time": "2024-10-05T14:09:41.971899Z",
     "start_time": "2024-10-05T14:09:41.424713Z"
    }
   },
   "source": [
    "from obspy.signal.invsim import cosine_taper\n",
    "from obspy.signal.filter import highpass\n",
    "from obspy.signal.trigger import classic_sta_lta, plot_trigger, trigger_onset\n",
    "\n",
    "# Sampling frequency of our trace\n",
    "df = tr.stats.sampling_rate\n",
    "\n",
    "# How long should the short-term and long-term window be, in seconds?\n",
    "sta_len = 3000\n",
    "lta_len = 7000\n",
    "\n",
    "# Run Obspy's STA/LTA to obtain a characteristic function\n",
    "# This function basically calculates the ratio of amplitude between the short-term \n",
    "# and long-term windows, moving consecutively in time across the data\n",
    "cft = classic_sta_lta(tr_data, int(sta_len * df), int(lta_len * df))\n",
    "\n",
    "# Plot characteristic function\n",
    "fig,ax = plt.subplots(1,1,figsize=(12,3))\n",
    "ax.plot(tr_times,cft)\n",
    "ax.set_xlim([min(tr_times),max(tr_times)])\n",
    "ax.set_xlabel('Time (s)')\n"
   ],
   "outputs": [
    {
     "data": {
      "text/plain": [
       "Text(0.5, 0, 'Time (s)')"
      ]
     },
     "execution_count": 89,
     "metadata": {},
     "output_type": "execute_result"
    },
    {
     "data": {
      "text/plain": [
       "<Figure size 1200x300 with 1 Axes>"
      ],
      "image/png": "[encoded data removed]"
     },
     "metadata": {},
     "output_type": "display_data"
    }
   ],
   "execution_count": 89
  },
  {
   "cell_type": "code",
   "metadata": {
    "ExecuteTime": {
     "end_time": "2024-10-05T14:09:43.057039Z",
     "start_time": "2024-10-05T14:09:42.104369Z"
    }
   },
   "source": [
    "cat_directory = './data/lunar/training/catalogs/'\n",
    "cat_file = cat_directory + 'apollo12_catalog_GradeA_final.csv'\n",
    "cat = pd.read_csv(cat_file)\n",
    "cat\n",
    "\n",
    "data_directory = './data/lunar/training/data/S12_GradeA/'\n",
    "csv_file = f'{data_directory}{test_filename}.csv'\n",
    "data_cat = pd.read_csv(csv_file)\n",
    "data_cat\n",
    "\n",
    "# x = amplituden etc ... aus \n",
    "# y = starttimes\n",
    "\n",
    "data = data_cat\n",
    "targets = cat['time_rel(sec)']\n",
    "\n",
    "arrival_time_rel = row\n",
    "arrival_time_rel"
   ],
   "outputs": [
    {
     "data": {
      "text/plain": [
       "filename                          xa.s12.00.mhz.1970-07-20HR00_evid00010\n",
       "time_abs(%Y-%m-%dT%H:%M:%S.%f)                1970-07-20T05:06:00.000000\n",
       "time_rel(sec)                                                    18360.0\n",
       "evid                                                           evid00010\n",
       "mq_type                                                        impact_mq\n",
       "Name: 7, dtype: object"
      ]
     },
     "execution_count": 90,
     "metadata": {},
     "output_type": "execute_result"
    }
   ],
   "execution_count": 90
  },
  {
   "metadata": {
    "ExecuteTime": {
     "end_time": "2024-10-05T16:35:16.228886Z",
     "start_time": "2024-10-05T16:35:08.484711Z"
    }
   },
   "cell_type": "code",
   "source": [
    "import torch\n",
    "import torch.nn as nn\n",
    "import pytorch_lightning as pl\n",
    "from torch.utils.data import DataLoader, Dataset\n",
    "import pandas as pd\n",
    "import numpy as np"
   ],
   "outputs": [],
   "execution_count": 3
  },
  {
   "cell_type": "code",
   "metadata": {
    "ExecuteTime": {
     "end_time": "2024-10-05T16:35:48.240735Z",
     "start_time": "2024-10-05T16:35:48.214755Z"
    }
   },
   "source": [
    "# # Define a simple dataset class\n",
    "# class SeismicDataset(Dataset):\n",
    "#     def __init__(self, data, targets):\n",
    "#         self.data = data\n",
    "#         self.targets = targets\n",
    "\n",
    "#     def __len__(self):\n",
    "#         return len(self.data)\n",
    "\n",
    "#     def __getitem__(self, idx):\n",
    "#         x = self.data[idx]\n",
    "#         y = self.targets[idx]\n",
    "#         return x, y\n",
    "    \n",
    "class Dataset:\n",
    "    def __init__(self, catalog, data_directory, window_size, frame_step_size):\n",
    "        self.catalog = catalog\n",
    "        self.data_directory = data_directory\n",
    "        self.window_size = window_size\n",
    "        self.frame_step_size = frame_step_size\n",
    "\n",
    "        self.values, self.labels, self.comment = self.load_data()\n",
    "        self.start_idx_list, self.change_idxs = self.windows_start_idx()\n",
    "\n",
    "    def load_data(self):\n",
    "        \n",
    "        cat = pd.read_csv(self.catalog)\n",
    "        files = cat[\"filename\"][:4]\n",
    "        values = pd.DataFrame()  # Initialize as empty DataFrame\n",
    "        labels = np.array([], dtype=np.float32)  # Ensure labels are of float type\n",
    "        comments = np.array([])\n",
    "        \n",
    "        for indx, file in enumerate(files):\n",
    "            path = f'{self.data_directory}{file}.csv'\n",
    "            frames = pd.read_csv(path)\n",
    "            frames[\"frame_idx\"] = indx  # Add frame index to the data\n",
    "            values = pd.concat([values, frames], ignore_index=True)  # Concatenate frames into values\n",
    "            \n",
    "            quake_time = cat[\"time_rel(sec)\"].iloc[indx]  # Correct iloc usage\n",
    "            labels_frame = np.zeros(len(frames), dtype=np.float32)  # Create labels frame of the same length as frames\n",
    "\n",
    "            \n",
    "            # Find the index where time is within quake_time +/- 1 second\n",
    "            quake_idx = np.where((frames[\"time_rel(sec)\"] > quake_time - 1) & (frames[\"time_rel(sec)\"] < quake_time + 1))[0]\n",
    "            print(quake_idx)\n",
    "            if len(quake_idx) > 0:  # Check if there is any index matching the condition\n",
    "                labels_frame[quake_idx[0]] = 1.0  # Mark the index with the quake event\n",
    "            \n",
    "            labels = np.concatenate([labels, labels_frame])  # Concatenate the labels\n",
    "            comments_frame = np.full(len(frames), cat[\"evid\"].iloc[indx])\n",
    "    \n",
    "            comments = np.concatenate([comments, comments_frame])\n",
    "\n",
    "        # exclude_columns = ['take_id', 'user_id', 'comment', 'frame_idx']\n",
    "        # value_columns = [col for col in frames.columns if col not in exclude_columns]\n",
    "\n",
    "        value_columns = [\"time_rel(sec)\",\"velocity(m/s)\"]\n",
    "        \n",
    "        \n",
    "        self.backup = values\n",
    "        return torch.tensor(values[value_columns].values).float(), torch.tensor(labels).float(), comments\n",
    "\n",
    "\n",
    "    def windows_start_idx(self):\n",
    "        change_idxs = self.backup.index[self.backup['frame_idx'] == 0].tolist()[1:]\n",
    "        change_idxs.append(len(self.backup))\n",
    "\n",
    "        result = list(range(0, (change_idxs[0]-self.window_size), self.frame_step_size))\n",
    "        for change_number in range(len(change_idxs)-1):\n",
    "            result.extend(list(range(change_idxs[change_number], change_idxs[change_number+1]-self.window_size, self.frame_step_size)))\n",
    "        return result, change_idxs\n",
    "\n",
    "\n",
    "    def __len__(self):\n",
    "        return len(self.start_idx_list)\n",
    "\n",
    "    # Real Length47499\n",
    "    def __getitem__(self, idx):\n",
    "        start = self.start_idx_list[idx]\n",
    "        stop = self.start_idx_list[idx] + self.window_size\n",
    "\n",
    "        batch = {\"values\": self.values[start:stop][:]}\n",
    "        batch[\"labels\"] = self.labels[start]\n",
    "        batch[\"start_id\"] = start\n",
    "        batch[\"stop_id\"] = stop\n",
    "        batch[\"comment\"] = self.comment[start]\n",
    "        # print(batch)\n",
    "        return batch\n",
    "\n"
   ],
   "outputs": [],
   "execution_count": 11
  },
  {
   "metadata": {
    "ExecuteTime": {
     "end_time": "2024-10-05T16:35:34.644414Z",
     "start_time": "2024-10-05T16:35:34.628059Z"
    }
   },
   "cell_type": "code",
   "source": [
    "class SeismicEventModel(pl.LightningModule):\n",
    "    def __init__(self, input_dim=2, hidden_dim=64, output_dim=1):\n",
    "        super(SeismicEventModel, self).__init__()\n",
    "        # Neural network layers\n",
    "        self.fc1 = nn.Linear(input_dim, hidden_dim)\n",
    "        self.relu = nn.ReLU()\n",
    "        self.fc2 = nn.Linear(hidden_dim, hidden_dim)\n",
    "        self.fc3 = nn.Linear(hidden_dim, output_dim)\n",
    "\n",
    "    def forward(self, x):\n",
    "        # Forward pass through the network\n",
    "        x = self.fc1(x)\n",
    "        x = self.relu(x)\n",
    "        x = self.fc2(x)\n",
    "        x = self.relu(x)\n",
    "        x = self.fc3(x)  # Output: Predicted event time\n",
    "        return x\n",
    "\n",
    "    def training_step(self, batch, batch_idx):\n",
    "        # Get data and targets\n",
    "        # print(batch)\n",
    "        # x, y = batch\n",
    "        x = batch[\"values\"]\n",
    "        y = batch[\"labels\"]\n",
    "        y_pred = self(x)\n",
    "        loss = nn.functional.mse_loss(y_pred, y)  # Using MSE for time prediction\n",
    "        return loss\n",
    "\n",
    "    def configure_optimizers(self):\n",
    "        # Adam optimizer\n",
    "        return torch.optim.Adam(self.parameters(), lr=0.001)"
   ],
   "outputs": [],
   "execution_count": 9
  },
  {
   "metadata": {
    "jupyter": {
     "is_executing": true
    },
    "ExecuteTime": {
     "start_time": "2024-10-05T16:39:02.319783Z"
    }
   },
   "cell_type": "code",
   "source": [
    "# DataLoader\n",
    "cat_directory = './data/lunar/training/catalogs/'\n",
    "cat_file = cat_directory + 'apollo12_catalog_GradeA_final.csv'\n",
    "data_directory = './data/lunar/training/data/S12_GradeA/'\n",
    "train_dataset = Dataset(cat_file, data_directory, 2000, 10)\n",
    "train_loader = DataLoader(train_dataset, batch_size=32, shuffle=True)\n",
    "\n",
    "# Initialize model\n",
    "model = SeismicEventModel()\n",
    "\n",
    "# Train the model\n",
    "trainer = pl.Trainer(max_epochs=5)\n",
    "trainer.fit(model, train_loader)"
   ],
   "outputs": [
    {
     "name": "stdout",
     "output_type": "stream",
     "text": [
      "[486931 486932 486933 486934 486935 486936 486937 486938 486939 486940\n",
      " 486941 486942 486943 486944]\n",
      "[84264 84265 84266 84267 84268 84269 84270 84271 84272 84273 84274 84275\n",
      " 84276]\n",
      "[483751 483752 483753 483754 483755 483756 483757 483758 483759 483760\n",
      " 483761 483762 483763 483764]\n",
      "[29409 29410 29411 29412 29413 29414 29415 29416 29417 29418 29419 29420\n",
      " 29421]\n"
     ]
    },
    {
     "name": "stderr",
     "output_type": "stream",
     "text": [
      "GPU available: False, used: False\n",
      "TPU available: False, using: 0 TPU cores\n",
      "HPU available: False, using: 0 HPUs\n",
      "\n",
      "  | Name | Type   | Params | Mode \n",
      "----------------------------------------\n",
      "0 | fc1  | Linear | 192    | train\n",
      "1 | relu | ReLU   | 0      | train\n",
      "2 | fc2  | Linear | 4.2 K  | train\n",
      "3 | fc3  | Linear | 65     | train\n",
      "----------------------------------------\n",
      "4.4 K     Trainable params\n",
      "0         Non-trainable params\n",
      "4.4 K     Total params\n",
      "0.018     Total estimated model params size (MB)\n",
      "4         Modules in train mode\n",
      "0         Modules in eval mode\n",
      "/home/nicki/.local/lib/python3.10/site-packages/pytorch_lightning/trainer/connectors/data_connector.py:424: The 'train_dataloader' does not have many workers which may be a bottleneck. Consider increasing the value of the `num_workers` argument` to `num_workers=3` in the `DataLoader` to improve performance.\n"
     ]
    },
    {
     "name": "stdout",
     "output_type": "stream",
     "text": [
      "Epoch 0:   0%|          | 1/5361 [00:00<12:37,  7.07it/s, v_num=15]"
     ]
    },
    {
     "name": "stderr",
     "output_type": "stream",
     "text": [
      "/tmp/ipykernel_41872/1689717416.py:26: UserWarning: Using a target size (torch.Size([32])) that is different to the input size (torch.Size([32, 2000, 1])). This will likely lead to incorrect results due to broadcasting. Please ensure they have the same size.\n",
      "  loss = nn.functional.mse_loss(y_pred, y)  # Using MSE for time prediction\n"
     ]
    },
    {
     "name": "stdout",
     "output_type": "stream",
     "text": [
      "Epoch 1:   0%|          | 2/5361 [00:00<05:30, 16.21it/s, v_num=15]   "
     ]
    },
    {
     "name": "stderr",
     "output_type": "stream",
     "text": [
      "/tmp/ipykernel_41872/1689717416.py:26: UserWarning: Using a target size (torch.Size([4])) that is different to the input size (torch.Size([4, 2000, 1])). This will likely lead to incorrect results due to broadcasting. Please ensure they have the same size.\n",
      "  loss = nn.functional.mse_loss(y_pred, y)  # Using MSE for time prediction\n"
     ]
    },
    {
     "name": "stdout",
     "output_type": "stream",
     "text": [
      "Epoch 4:  44%|████▍     | 2351/5361 [02:27<03:09, 15.90it/s, v_num=15]"
     ]
    }
   ],
   "execution_count": null
  },
  {
   "cell_type": "code",
   "execution_count": 8,
   "metadata": {},
   "outputs": [
    {
     "ename": "ModuleNotFoundError",
     "evalue": "No module named 'tensorflow'",
     "output_type": "error",
     "traceback": [
      "\u001B[0;31m---------------------------------------------------------------------------\u001B[0m",
      "\u001B[0;31mModuleNotFoundError\u001B[0m                       Traceback (most recent call last)",
      "Cell \u001B[0;32mIn[8], line 1\u001B[0m\n\u001B[0;32m----> 1\u001B[0m \u001B[38;5;28;01mfrom\u001B[39;00m \u001B[38;5;21;01mtensorflow\u001B[39;00m\u001B[38;5;21;01m.\u001B[39;00m\u001B[38;5;21;01mkeras\u001B[39;00m\u001B[38;5;21;01m.\u001B[39;00m\u001B[38;5;21;01mmodels\u001B[39;00m \u001B[38;5;28;01mimport\u001B[39;00m Sequential\n\u001B[1;32m      2\u001B[0m \u001B[38;5;28;01mfrom\u001B[39;00m \u001B[38;5;21;01mtensorflow\u001B[39;00m\u001B[38;5;21;01m.\u001B[39;00m\u001B[38;5;21;01mkeras\u001B[39;00m\u001B[38;5;21;01m.\u001B[39;00m\u001B[38;5;21;01mlayers\u001B[39;00m \u001B[38;5;28;01mimport\u001B[39;00m LSTM, Dense\n\u001B[1;32m      4\u001B[0m \u001B[38;5;66;03m# Modell-Architektur\u001B[39;00m\n",
      "\u001B[0;31mModuleNotFoundError\u001B[0m: No module named 'tensorflow'"
     ]
    }
   ],
   "source": [
    "# from tensorflow.keras.models import Sequential\n",
    "# from tensorflow.keras.layers import LSTM, Dense\n",
    "\n",
    "# # Modell-Architektur\n",
    "# model = Sequential()\n",
    "# model.add(LSTM(64, return_sequences=True, input_shape=(window_size, num_features)))\n",
    "# model.add(LSTM(32))\n",
    "# model.add(Dense(1))  # Zeitstempel-Vorhersage\n",
    "\n",
    "# # Kompilierung\n",
    "# # model.compile(optimizer='adam', loss='mean_squared_error')\n"
   ]
  },
  {
   "metadata": {},
   "cell_type": "code",
   "outputs": [],
   "execution_count": null,
   "source": ""
  },
  {
   "metadata": {},
   "cell_type": "code",
   "outputs": [],
   "execution_count": null,
   "source": ""
  },
  {
   "metadata": {},
   "cell_type": "code",
   "outputs": [],
   "execution_count": null,
   "source": ""
  },
  {
   "metadata": {},
   "cell_type": "code",
   "outputs": [],
   "execution_count": null,
   "source": ""
  },
  {
   "metadata": {},
   "cell_type": "code",
   "outputs": [],
   "execution_count": null,
   "source": ""
  },
  {
   "metadata": {},
   "cell_type": "code",
   "outputs": [],
   "execution_count": null,
   "source": ""
  }
 ],
 "metadata": {
  "kernelspec": {
   "display_name": "Python 3",
   "language": "python",
   "name": "python3"
  },
  "language_info": {
   "codemirror_mode": {
    "name": "ipython",
    "version": 3
   },
   "file_extension": ".py",
   "mimetype": "text/x-python",
   "name": "python",
   "nbconvert_exporter": "python",
   "pygments_lexer": "ipython3",
   "version": "3.10.12"
  }
 },
 "nbformat": 4,
 "nbformat_minor": 2
}
